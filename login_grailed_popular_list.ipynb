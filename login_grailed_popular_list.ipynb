{
 "cells": [
  {
   "cell_type": "code",
   "execution_count": null,
   "id": "bbdfc59b",
   "metadata": {},
   "outputs": [],
   "source": [
    "import pandas as pd\n",
    "import csv\n",
    "pd.set_option('display.max_rows', 500)\n",
    "pd.set_option('display.max_columns', 500)\n",
    "import selenium\n",
    "from selenium import webdriver\n",
    "from selenium.webdriver.common.keys import Keys\n",
    "from selenium.webdriver.support.ui import WebDriverWait\n",
    "from selenium.webdriver.support import expected_conditions as EC\n",
    "from selenium.webdriver.common.by import By\n",
    "from selenium.webdriver.support.ui import Select\n",
    "from selenium.webdriver import ActionChains\n",
    "from selenium.webdriver.chrome.options import Options"
   ]
  },
  {
   "cell_type": "code",
   "execution_count": null,
   "id": "293aa36a",
   "metadata": {},
   "outputs": [],
   "source": [
    "# Setting a base url for where to find all the designers on grailed\n",
    "base_url = \"https://www.grailed.com/designers/\"\n",
    "# open up chrome\n",
    "##chrome_options = webdriver.ChromeOptions()\n",
    "##driver = webdriver.Chrome('data/chromedriver',options=chrome_options) # replace webdrive location with ones own\n",
    "##driver.get(base_url)\n",
    "\n",
    "options = Options()\n",
    "options.add_argument(\"user-data-dir=/tmp/tarun\")\n",
    "driver = webdriver.Chrome('data/chromedriver', chrome_options=options)\n",
    "driver.get(base_url)\n",
    "\n",
    "driver.find_element(By.CSS_SELECTOR, \"#global-header-login-btn\").click()"
   ]
  },
  {
   "cell_type": "code",
   "execution_count": null,
   "id": "7842da68",
   "metadata": {},
   "outputs": [],
   "source": [
    "driver.find_element(By.XPATH, \"/html/body/div[10]/div/div/div/div[2]/div/div/button[4]\").click()"
   ]
  },
  {
   "cell_type": "code",
   "execution_count": null,
   "id": "1d8f72b5",
   "metadata": {},
   "outputs": [],
   "source": [
    "username = driver.find_element(By.ID, \"email\")\n",
    "password = driver.find_element(By.ID, \"password\")\n",
    "\n",
    "username.send_keys(\"chkberlin413@gmail.com\")\n",
    "password.send_keys(\"Spiegel1101!\")\n",
    "\n",
    "driver.find_element(By.XPATH, \"/html/body/div[10]/div/div/div/div[2]/div/div/form/button\").click()"
   ]
  },
  {
   "cell_type": "code",
   "execution_count": null,
   "id": "b0036335",
   "metadata": {},
   "outputs": [],
   "source": [
    "driver.find_element(By.XPATH, \"/html/body/div[3]/div[7]/div/div/div/div[2]/div[2]/div/h2[2]\").click()\n",
    "#driver.find_element(By.CLASS, \"active\")"
   ]
  },
  {
   "cell_type": "code",
   "execution_count": null,
   "id": "581dc087",
   "metadata": {},
   "outputs": [],
   "source": [
    "eleme = driver.find_elements(By.XPATH, \"/html/body/div[3]/div[7]/div/div/div/div[2]/div[3]/a\")"
   ]
  },
  {
   "cell_type": "code",
   "execution_count": null,
   "id": "6a328c40",
   "metadata": {},
   "outputs": [],
   "source": [
    "# Making a list of all the links \n",
    "Link =[]\n",
    "for result in eleme:\n",
    "        link = result.get_attribute(\"href\") # grabbing the link attribute\n",
    "        Link.append(link)\n",
    "      \n",
    "# Turn the Links into a DataFrame\n",
    "ItemDF=pd.DataFrame(Link,columns=['Link'])\n",
    "\n",
    "# filtering out links that are not designer page links\n",
    "#ItemDF = ItemDF[ItemDF['Link']]#.str.contains(\"designers/\")]"
   ]
  },
  {
   "cell_type": "code",
   "execution_count": null,
   "id": "56680d1b",
   "metadata": {},
   "outputs": [],
   "source": [
    "ItemDF"
   ]
  }
 ],
 "metadata": {
  "kernelspec": {
   "display_name": "Python 3",
   "language": "python",
   "name": "python3"
  },
  "language_info": {
   "codemirror_mode": {
    "name": "ipython",
    "version": 3
   },
   "file_extension": ".py",
   "mimetype": "text/x-python",
   "name": "python",
   "nbconvert_exporter": "python",
   "pygments_lexer": "ipython3",
   "version": "3.8.8"
  }
 },
 "nbformat": 4,
 "nbformat_minor": 5
}
