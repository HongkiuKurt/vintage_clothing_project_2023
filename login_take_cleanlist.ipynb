{
 "cells": [
  {
   "cell_type": "code",
   "execution_count": 1,
   "id": "fca3e02f",
   "metadata": {},
   "outputs": [],
   "source": [
    "import pandas as pd\n",
    "import csv\n",
    "import time \n",
    "pd.set_option('display.max_rows', 500)\n",
    "pd.set_option('display.max_columns', 500)\n",
    "import selenium\n",
    "from selenium import webdriver\n",
    "from selenium.webdriver.common.keys import Keys\n",
    "from selenium.webdriver.support.ui import WebDriverWait\n",
    "from selenium.webdriver.support import expected_conditions as EC\n",
    "from selenium.webdriver.common.by import By\n",
    "from selenium.webdriver.support.ui import Select\n",
    "from selenium.webdriver import ActionChains\n",
    "from selenium.webdriver.chrome.options import Options\n",
    "from time import sleep "
   ]
  },
  {
   "cell_type": "code",
   "execution_count": 2,
   "id": "10ee0b73",
   "metadata": {},
   "outputs": [
    {
     "name": "stderr",
     "output_type": "stream",
     "text": [
      "<ipython-input-2-4f29f91022b9>:11: DeprecationWarning: executable_path has been deprecated, please pass in a Service object\n",
      "  driver = webdriver.Chrome(executable_path=r'/Users/kurtcheng/Downloads/chromedriver_mac_arm64/chromedriver')\n"
     ]
    }
   ],
   "source": [
    "# Setting a base url for where to find all the designers on grailed\n",
    "base_url = \"https://www.grailed.com/designers/\"\n",
    "# open up chrome\n",
    "##chrome_options = webdriver.ChromeOptions()\n",
    "##driver = webdriver.Chrome('data/chromedriver',options=chrome_options) # replace webdrive location with ones own\n",
    "##driver.get(base_url)\n",
    "\n",
    "options = Options()\n",
    "options.add_argument(\"user-data-dir=/tmp/tarun\")\n",
    "##driver = webdriver.Chrome('data/chromedriver', chrome_options=options)\n",
    "driver = webdriver.Chrome(executable_path=r'/Users/kurtcheng/Downloads/chromedriver_mac_arm64/chromedriver')\n",
    "driver.get(base_url)\n",
    "\n",
    "driver.find_element(By.CSS_SELECTOR, \"#global-header-login-btn\").click()"
   ]
  },
  {
   "cell_type": "code",
   "execution_count": 3,
   "id": "c737c6c3",
   "metadata": {},
   "outputs": [],
   "source": [
    "try:\n",
    "    driver.find_element(By.XPATH, \"/html/body/div[10]/div/div/div/div[2]/div/div/button[4]\").click()\n",
    "#results = driver.find_elements(\"xpath\", \"//a[@href]\")\n",
    "except:\n",
    "    driver.find_element(By.XPATH, \"/html/body/div[8]/div/div/div/div[2]/div/div/button[4]\").click()"
   ]
  },
  {
   "cell_type": "code",
   "execution_count": 4,
   "id": "3c5efee4",
   "metadata": {},
   "outputs": [],
   "source": [
    "username = driver.find_element(By.ID, \"email\")\n",
    "password = driver.find_element(By.ID, \"password\")\n",
    "\n",
    "username.send_keys(\"chkberlin413@gmail.com\")\n",
    "password.send_keys(\"Spiegel1101!\")\n",
    "\n",
    "try:\n",
    "    driver.find_element(By.XPATH, \"/html/body/div[10]/div/div/div/div[2]/div/div/form/button\").click()\n",
    "except:\n",
    "    driver.find_element(By.XPATH, \"/html/body/div[8]/div/div/div/div[2]/div/div/form/button\").click()"
   ]
  },
  {
   "cell_type": "code",
   "execution_count": 5,
   "id": "3c7c7fa0",
   "metadata": {},
   "outputs": [],
   "source": [
    "contents = []\n",
    "\n",
    "with open('cleanlistings.csv', 'rt') as cp_csv:\n",
    "    cp_url = csv.reader(cp_csv)\n",
    "    for row in cp_url:\n",
    "        links = row[0]\n",
    "        if len(links) > 10:\n",
    "            contents.append(links)"
   ]
  },
  {
   "cell_type": "code",
   "execution_count": 6,
   "id": "519f2ddb",
   "metadata": {},
   "outputs": [
    {
     "data": {
      "text/plain": [
       "['https://www.grailed.com/designers/nike',\n",
       " 'https://www.grailed.com/designers/band-tees',\n",
       " 'https://www.grailed.com/designers/supreme',\n",
       " 'https://www.grailed.com/designers/adidas',\n",
       " 'https://www.grailed.com/designers/levis',\n",
       " 'https://www.grailed.com/designers/polo-ralph-lauren',\n",
       " 'https://www.grailed.com/designers/burberry',\n",
       " 'https://www.grailed.com/designers/champion',\n",
       " 'https://www.grailed.com/designers/uniqlo',\n",
       " 'https://www.grailed.com/designers/bape',\n",
       " 'https://www.grailed.com/designers/louis-vuitton',\n",
       " 'https://www.grailed.com/designers/disney',\n",
       " 'https://www.grailed.com/designers/new-era',\n",
       " 'https://www.grailed.com/designers/anti-social-social-club',\n",
       " 'https://www.grailed.com/designers/the-north-face',\n",
       " 'https://www.grailed.com/designers/tommy-hilfiger',\n",
       " 'https://www.grailed.com/designers/gucci',\n",
       " 'https://www.grailed.com/designers/distressed-denim',\n",
       " 'https://www.grailed.com/designers/military',\n",
       " 'https://www.grailed.com/designers/stussy',\n",
       " 'https://www.grailed.com/designers/avant-garde',\n",
       " 'https://www.grailed.com/designers/issey-miyake',\n",
       " 'https://www.grailed.com/designers/rock-t-shirt',\n",
       " 'https://www.grailed.com/designers/ralph-lauren',\n",
       " 'https://www.grailed.com/designers/harley-davidson',\n",
       " 'https://www.grailed.com/designers/mlb',\n",
       " 'https://www.grailed.com/designers/soccer-jersey',\n",
       " 'https://www.grailed.com/designers/anima',\n",
       " 'https://www.grailed.com/designers/nfl',\n",
       " 'https://www.grailed.com/designers/archival-clothing',\n",
       " 'https://www.grailed.com/designers/prada',\n",
       " 'https://www.grailed.com/designers/yves-saint-laurent',\n",
       " 'https://www.grailed.com/designers/comme-des-garcons',\n",
       " 'https://www.grailed.com/designers/nba',\n",
       " 'https://www.grailed.com/designers/dolce-gabbana',\n",
       " 'https://www.grailed.com/designers/hysteric-glamour',\n",
       " 'https://www.grailed.com/designers/rap-tees',\n",
       " 'https://www.grailed.com/designers/kapital',\n",
       " 'https://www.grailed.com/designers/undercover',\n",
       " 'https://www.grailed.com/designers/reebok',\n",
       " 'https://www.grailed.com/designers/yohji-yamamoto',\n",
       " 'https://www.grailed.com/designers/off-white',\n",
       " 'https://www.grailed.com/designers/hanes',\n",
       " 'https://www.grailed.com/designers/fruit-of-the-loom',\n",
       " 'https://www.grailed.com/designers/saint-laurent-paris',\n",
       " 'https://www.grailed.com/designers/balenciaga',\n",
       " 'https://www.grailed.com/designers/gap',\n",
       " 'https://www.grailed.com/designers/vans',\n",
       " 'https://www.grailed.com/designers/puma',\n",
       " 'https://www.grailed.com/designers/tour-tee',\n",
       " 'https://www.grailed.com/designers/versace',\n",
       " 'https://www.grailed.com/designers/dior',\n",
       " 'https://www.grailed.com/designers/varsity-jacket',\n",
       " 'https://www.grailed.com/designers/valentino',\n",
       " 'https://www.grailed.com/designers/gildan',\n",
       " 'https://www.grailed.com/designers/palace',\n",
       " 'https://www.grailed.com/designers/lacoste',\n",
       " 'https://www.grailed.com/designers/winter-session',\n",
       " 'https://www.grailed.com/designers/number-n-ine',\n",
       " 'https://www.grailed.com/designers/maison-margiela',\n",
       " 'https://www.grailed.com/designers/seditionaries',\n",
       " 'https://www.grailed.com/designers/rick-owens',\n",
       " 'https://www.grailed.com/designers/hype',\n",
       " 'https://www.grailed.com/designers/hawaiian-shirt',\n",
       " 'https://www.grailed.com/designers/acne-studios',\n",
       " 'https://www.grailed.com/designers/patagonia',\n",
       " 'https://www.grailed.com/designers/mickey-mouse',\n",
       " 'https://www.grailed.com/designers/fila',\n",
       " 'https://www.grailed.com/designers/kappa',\n",
       " 'https://www.grailed.com/designers/guess',\n",
       " 'https://www.grailed.com/designers/converse',\n",
       " 'https://www.grailed.com/designers/lee',\n",
       " 'https://www.grailed.com/designers/travis-scott',\n",
       " 'https://www.grailed.com/designers/dickies',\n",
       " 'https://www.grailed.com/designers/russell-athletic',\n",
       " 'https://www.grailed.com/designers/kurt-cobain',\n",
       " 'https://www.grailed.com/designers/calvin-klein']"
      ]
     },
     "execution_count": 6,
     "metadata": {},
     "output_type": "execute_result"
    }
   ],
   "source": [
    "contents"
   ]
  },
  {
   "cell_type": "code",
   "execution_count": 6,
   "id": "9e7445dd",
   "metadata": {},
   "outputs": [],
   "source": [
    "#link should be something like \"https://www.classpass.com/studios/forever-body-coaching-london?search-id=49534025882004019\"\n",
    "Link =[]\n",
    "for x in contents:\n",
    "    driver.get(x)\n",
    "    # paste the code you have here\n",
    "    driver.find_element(By.XPATH, \"/html/body/div[1]/div/main/div[2]/div[1]/div/picture/img\").click()\n",
    "    time.sleep(1)\n",
    "    driver.execute_script(\"window.scrollTo(0, window.scrollY + 6000)\")\n",
    "    time.sleep(1)\n",
    "    driver.find_element(By.XPATH, \"//span[contains(., 'Show Only')]\").click()\n",
    "    time.sleep(1)\n",
    "    driver.find_element(By.XPATH, \"//input[@id='sold-filter'][@type='checkbox']\").click()\n",
    "    time.sleep(1)\n",
    "#    try:\n",
    "#        driver.find_element(By.XPATH, \"/html/body/div[1]/div/main/div[2]/div[6]/div/div[2]/div[1]/div/div[10]/div[1]/div/span\").click()\n",
    "#        time.sleep(1)\n",
    "#    except:\n",
    "#        try:\n",
    "#            driver.find_element(By.XPATH, \"/html/body/div[1]/div/main/div[2]/div[5]/div/div[2]/div[1]/div/div[10]/div[1]/div/span\").click()\n",
    "#            time.sleep(1)\n",
    "#        except:\n",
    "#            try:\n",
    "#                driver.find_element(By.XPATH, \"/html/body/div[1]/div/main/div[2]/div[4]/div/div[2]/div[1]/div/div[10]/div[1]/div/span\").click()\n",
    "#                time.sleep(1)\n",
    "#            except:\n",
    "#                try:\n",
    "#                    driver.find_element(By.XPATH, \"/html/body/div[1]/div/main/div[2]/div[5]/div/div[2]/div[1]/div/div[10]/div[1]/div/span\").click()\n",
    "#                    time.sleep(1)\n",
    "#                except:\n",
    "#                    try:\n",
    "#                        driver.find_element(By.XPATH, \"/html/body/div[1]/div/main/div[2]/div[5]/div/div[2]/div[1]/div/div[10]/div[1]/div/span\").click()\n",
    "#                        time.sleep(1)\n",
    "#                    except:\n",
    "#                        try:\n",
    "#                            driver.find_element(By.XPATH, \"/html/body/div[1]/div/main/div[2]/div[2]/div/div[2]/div[1]/div/div[10]/div[1]/div/span\").click()\n",
    "#                            time.sleep(1)\n",
    "#                        except:\n",
    "#                            driver.find_element(By.XPATH, \"/html/body/div[1]/div/main/div[2]/div[5]/div/div[2]/div[1]/div/div[10]/div[1]/div/span\").click()\n",
    "#                            time.sleep(1)\n",
    "                            \n",
    "    \n",
    "#    try:\n",
    "#        driver.find_element(By.XPATH, \"/html/body/div[1]/div/main/div[2]/div[6]/div/div[2]/div[1]/div/div[10]/div[2]/div/div/ul/li[3]/label/div/input\").click()\n",
    "#        time.sleep(1)\n",
    "#    except:\n",
    "#        try:\n",
    "#            driver.find_element(By.XPATH, \"/html/body/div[1]/div/main/div[2]/div[5]/div/div[2]/div[1]/div/div[10]/div[2]/div/div/ul/li[2]/label/div/input\").click()\n",
    "#            time.sleep(1)\n",
    "#        except:\n",
    "#            try:\n",
    "#                driver.find_element(By.XPATH, \"/html/body/div[1]/div/main/div[2]/div[5]/div/div[2]/div[1]/div/div[10]/div[2]/div/div/ul/li[2]/label/div/input\").click()\n",
    "#                time.sleep(1)\n",
    "#            except:\n",
    "#                try:\n",
    "#                    driver.find_element(By.XPATH, \"/html/body/div[1]/div/main/div[2]/div[6]/div/div[2]/div[1]/div/div[10]/div[2]/div/div/ul/li[2]/label/div/input\").click()\n",
    "#                    time.sleep(1)\n",
    "#                except:\n",
    "#                    try:\n",
    "#                        driver.find_element(By.XPATH, \"/html/body/div[1]/div/main/div[2]/div[6]/div/div[2]/div[1]/div/div[10]/div[2]/div/div/ul/li/label/div/input\").click()\n",
    "#                        time.sleep(1)\n",
    "#                    except:\n",
    "#                        try:\n",
    "#                            driver.find_element(By.XPATH, \"/html/body/div[1]/div/main/div[2]/div[5]/div/div[2]/div[1]/div/div[10]/div[2]/div/div/ul/li[3]/label/div/input\").click()\n",
    "#                            time.sleep(1)\n",
    "#                        except:\n",
    "#                            try:\n",
    "#                                driver.find_element(By.XPATH, \"/html/body/div[1]/div/main/div[2]/div[4]/div/div[2]/div[1]/div/div[10]/div[2]/div/div/ul/li[2]/label/div/input\").click()\n",
    "#                                time.sleep(1)\n",
    "#                            except:\n",
    "#                                try:\n",
    "#                                    driver.find_element(By.XPATH, \"/html/body/div[1]/div/main/div[2]/div[5]/div/div[2]/div[1]/div/div[10]/div[2]/div/div/ul/li/label/div/input\").click()\n",
    "#                                    time.sleep(1)\n",
    "#                                except:\n",
    "#                                    try:\n",
    "#                                        driver.find_element(By.XPATH, \"/html/body/div[1]/div/main/div[2]/div[2]/div/div[2]/div[1]/div/div[10]/div[2]/div/div/ul/li[2]/label/div/input\").click()\n",
    "#                                        time.sleep(1)\n",
    "#                                    except:\n",
    "#                                        driver.find_element(By.XPATH, \"/html/body/div[1]/div/main/div[2]/div[4]/div/div[2]/div[1]/div/div[10]/div[2]/div/div/ul/li/label/div/input\").click()\n",
    "#                                        time.sleep(1)\n",
    "    \n",
    "    SCROLL_PAUSE_TIME = 0.5\n",
    "    while True:\n",
    "\n",
    "        # Get scroll height\n",
    "        ### This is the difference. Moving this *inside* the loop\n",
    "        ### means that it checks if scrollTo is still scrolling \n",
    "        last_height = driver.execute_script(\"return document.body.scrollHeight\")\n",
    "\n",
    "        # Scroll down to bottom\n",
    "        driver.execute_script(\"window.scrollTo(0, document.body.scrollHeight);\")\n",
    "\n",
    "        # Wait to load page\n",
    "        time.sleep(SCROLL_PAUSE_TIME)\n",
    "\n",
    "        # Calculate new scroll height and compare with last scroll height\n",
    "        new_height = driver.execute_script(\"return document.body.scrollHeight\")\n",
    "        if new_height == last_height:\n",
    "\n",
    "            # try again (can be removed)\n",
    "            driver.execute_script(\"window.scrollTo(0, document.body.scrollHeight);\")\n",
    "\n",
    "            # Wait to load page\n",
    "            time.sleep(SCROLL_PAUSE_TIME)\n",
    "\n",
    "            # Calculate new scroll height and compare with last scroll height\n",
    "            new_height = driver.execute_script(\"return document.body.scrollHeight\")\n",
    "\n",
    "            # check if the page height has remained the same\n",
    "            if new_height == last_height:\n",
    "                # if so, you are done\n",
    "                break\n",
    "            # if not, move on to the next loop\n",
    "            else:\n",
    "                last_height = new_height\n",
    "                continue\n",
    "            \n",
    "    eleme = driver.find_elements(By.CLASS_NAME, \"listing-item-link\")\n",
    "    for result in eleme:\n",
    "        link = result.get_attribute(\"href\") # grabbing the link attribute\n",
    "        Link.append(link)\n",
    "    # Turn the Links into a DataFrame\n",
    "    ItemDF = pd.DataFrame(Link,columns=['Link'])\n",
    "    \n",
    "driver.close()\n",
    "\n",
    "    \n",
    "\n"
   ]
  },
  {
   "cell_type": "code",
   "execution_count": 31,
   "id": "d8bd1d84",
   "metadata": {},
   "outputs": [
    {
     "ename": "NameError",
     "evalue": "name 'ItemDF' is not defined",
     "output_type": "error",
     "traceback": [
      "\u001b[0;31m---------------------------------------------------------------------------\u001b[0m",
      "\u001b[0;31mNameError\u001b[0m                                 Traceback (most recent call last)",
      "\u001b[0;32m/var/folders/88/9cwth6ns2wq6dkl6wy731tbh0000gn/T/ipykernel_71997/3193951190.py\u001b[0m in \u001b[0;36m<module>\u001b[0;34m\u001b[0m\n\u001b[0;32m----> 1\u001b[0;31m \u001b[0mItemDF\u001b[0m\u001b[0;34m\u001b[0m\u001b[0;34m\u001b[0m\u001b[0m\n\u001b[0m",
      "\u001b[0;31mNameError\u001b[0m: name 'ItemDF' is not defined"
     ]
    }
   ],
   "source": [
    "ItemDF"
   ]
  },
  {
   "cell_type": "code",
   "execution_count": 7,
   "id": "79ba9d54",
   "metadata": {},
   "outputs": [
    {
     "data": {
      "text/plain": [
       "72680"
      ]
     },
     "execution_count": 7,
     "metadata": {},
     "output_type": "execute_result"
    }
   ],
   "source": [
    "len(ItemDF)"
   ]
  },
  {
   "cell_type": "code",
   "execution_count": 2,
   "id": "2d07a104",
   "metadata": {},
   "outputs": [
    {
     "ename": "NameError",
     "evalue": "name 'ItemDF' is not defined",
     "output_type": "error",
     "traceback": [
      "\u001b[0;31m---------------------------------------------------------------------------\u001b[0m",
      "\u001b[0;31mNameError\u001b[0m                                 Traceback (most recent call last)",
      "\u001b[0;32m/var/folders/88/9cwth6ns2wq6dkl6wy731tbh0000gn/T/ipykernel_69872/423893104.py\u001b[0m in \u001b[0;36m<module>\u001b[0;34m\u001b[0m\n\u001b[0;32m----> 1\u001b[0;31m \u001b[0mItemDF\u001b[0m\u001b[0;34m.\u001b[0m\u001b[0mto_csv\u001b[0m\u001b[0;34m(\u001b[0m\u001b[0;34m'takefromcleanlist.csv'\u001b[0m\u001b[0;34m,\u001b[0m \u001b[0mindex\u001b[0m\u001b[0;34m=\u001b[0m\u001b[0;32mFalse\u001b[0m\u001b[0;34m)\u001b[0m\u001b[0;34m\u001b[0m\u001b[0;34m\u001b[0m\u001b[0m\n\u001b[0m",
      "\u001b[0;31mNameError\u001b[0m: name 'ItemDF' is not defined"
     ]
    }
   ],
   "source": [
    "ItemDF.to_csv('takefromcleanlist.csv', index=False)  "
   ]
  },
  {
   "cell_type": "code",
   "execution_count": 2,
   "id": "0af6c543",
   "metadata": {},
   "outputs": [],
   "source": [
    "df = pd.read_csv('takefromcleanlist.csv')"
   ]
  },
  {
   "cell_type": "code",
   "execution_count": 3,
   "id": "586a6d1a",
   "metadata": {},
   "outputs": [
    {
     "data": {
      "text/html": [
       "<div>\n",
       "<style scoped>\n",
       "    .dataframe tbody tr th:only-of-type {\n",
       "        vertical-align: middle;\n",
       "    }\n",
       "\n",
       "    .dataframe tbody tr th {\n",
       "        vertical-align: top;\n",
       "    }\n",
       "\n",
       "    .dataframe thead th {\n",
       "        text-align: right;\n",
       "    }\n",
       "</style>\n",
       "<table border=\"1\" class=\"dataframe\">\n",
       "  <thead>\n",
       "    <tr style=\"text-align: right;\">\n",
       "      <th></th>\n",
       "      <th>Link</th>\n",
       "    </tr>\n",
       "  </thead>\n",
       "  <tbody>\n",
       "    <tr>\n",
       "      <th>1</th>\n",
       "      <td>https://www.grailed.com/listings/40331520-nike...</td>\n",
       "    </tr>\n",
       "    <tr>\n",
       "      <th>2</th>\n",
       "      <td>https://www.grailed.com/listings/40317733-nike...</td>\n",
       "    </tr>\n",
       "  </tbody>\n",
       "</table>\n",
       "</div>"
      ],
      "text/plain": [
       "                                                Link\n",
       "1  https://www.grailed.com/listings/40331520-nike...\n",
       "2  https://www.grailed.com/listings/40317733-nike..."
      ]
     },
     "execution_count": 3,
     "metadata": {},
     "output_type": "execute_result"
    }
   ],
   "source": [
    "df"
   ]
  },
  {
   "cell_type": "code",
   "execution_count": null,
   "id": "8fab4aa7",
   "metadata": {},
   "outputs": [],
   "source": []
  },
  {
   "cell_type": "code",
   "execution_count": null,
   "id": "97735a56",
   "metadata": {},
   "outputs": [],
   "source": []
  },
  {
   "cell_type": "code",
   "execution_count": null,
   "id": "d3659876",
   "metadata": {},
   "outputs": [],
   "source": []
  },
  {
   "cell_type": "code",
   "execution_count": null,
   "id": "3c443fa4",
   "metadata": {},
   "outputs": [],
   "source": []
  },
  {
   "cell_type": "code",
   "execution_count": null,
   "id": "68aaeef3",
   "metadata": {},
   "outputs": [],
   "source": []
  },
  {
   "cell_type": "code",
   "execution_count": null,
   "id": "2025d4d4",
   "metadata": {},
   "outputs": [],
   "source": [
    "\n"
   ]
  },
  {
   "cell_type": "code",
   "execution_count": null,
   "id": "b68e4d99",
   "metadata": {},
   "outputs": [],
   "source": []
  },
  {
   "cell_type": "code",
   "execution_count": null,
   "id": "2184c0ae",
   "metadata": {},
   "outputs": [],
   "source": []
  },
  {
   "cell_type": "code",
   "execution_count": null,
   "id": "130165ac",
   "metadata": {},
   "outputs": [],
   "source": []
  }
 ],
 "metadata": {
  "kernelspec": {
   "display_name": "Python 3 (ipykernel)",
   "language": "python",
   "name": "python3"
  },
  "language_info": {
   "codemirror_mode": {
    "name": "ipython",
    "version": 3
   },
   "file_extension": ".py",
   "mimetype": "text/x-python",
   "name": "python",
   "nbconvert_exporter": "python",
   "pygments_lexer": "ipython3",
   "version": "3.9.13"
  }
 },
 "nbformat": 4,
 "nbformat_minor": 5
}
